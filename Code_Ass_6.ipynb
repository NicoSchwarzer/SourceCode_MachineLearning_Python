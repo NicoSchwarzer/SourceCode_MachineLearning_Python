{
  "nbformat": 4,
  "nbformat_minor": 0,
  "metadata": {
    "colab": {
      "name": "Code_Ass_6",
      "provenance": [],
      "collapsed_sections": [],
      "authorship_tag": "ABX9TyPQqR2iYz8bMyiQ26DF5wAY",
      "include_colab_link": true
    },
    "kernelspec": {
      "name": "python3",
      "display_name": "Python 3"
    },
    "language_info": {
      "name": "python"
    }
  },
  "cells": [
    {
      "cell_type": "markdown",
      "metadata": {
        "id": "view-in-github",
        "colab_type": "text"
      },
      "source": [
        "<a href=\"https://colab.research.google.com/github/NicoSchwarzer/SourceCode_MachineLearning_Python/blob/main/Code_Ass_6.ipynb\" target=\"_parent\"><img src=\"https://colab.research.google.com/assets/colab-badge.svg\" alt=\"Open In Colab\"/></a>"
      ]
    },
    {
      "cell_type": "markdown",
      "metadata": {
        "id": "2FW6FdtK0K-a"
      },
      "source": [
        "**Assignment No 6**\n",
        "\n",
        "Firstly, we are reading in packages and preparing the data"
      ]
    },
    {
      "cell_type": "code",
      "metadata": {
        "id": "MSgnUrVT02pL"
      },
      "source": [
        "\n",
        "\n",
        "import numpy as np\n",
        "import pandas as pd \n",
        "import os \n",
        "import scipy\n",
        "from scipy.optimize import minimize\n",
        "import matplotlib.pyplot as plt\n"
      ],
      "execution_count": 2,
      "outputs": []
    },
    {
      "cell_type": "code",
      "metadata": {
        "colab": {
          "base_uri": "https://localhost:8080/"
        },
        "id": "LKwStCuJyops",
        "outputId": "34795738-3372-4c39-d014-86440f1371d6"
      },
      "source": [
        "a = np.load(\"digits01.npy\", allow_pickle=True).item()\n",
        "\n",
        "result = a.items()\n",
        "data = list(result)\n",
        "data2 = np.array(data, dtype=object)\n",
        "\n",
        "# finally retrieving data: \n",
        "    \n",
        "# Ytest\n",
        "print(\"the values for \" + str(data2[0,0]) + \" are stored in data2[0,1].\")\n",
        "Ytest =  data2[0,1]\n",
        "\n",
        "#Xtest\n",
        "print(\"the values for \" + str(data2[1,0]) + \" are stored in data2[1,1].\")\n",
        "Xtest = data2[1,1]\n",
        "\n",
        "#Xtrain\n",
        "print(\"the values for \" + str(data2[2,0]) + \" are stored in data2[2,1].\")\n",
        "Xtrain = data2[2,1]\n",
        "\n",
        "#Ytrain\n",
        "print(\"the values for \" + str(data2[3,0]) + \" are stored in data2[3,1].\")\n",
        "Ytrain = data2[3,1]\n",
        "\n"
      ],
      "execution_count": 6,
      "outputs": [
        {
          "output_type": "stream",
          "text": [
            "the values for Ytest are stored in data2[0,1].\n",
            "the values for Xtest are stored in data2[1,1].\n",
            "the values for Xtrain are stored in data2[2,1].\n",
            "the values for Ytrain are stored in data2[3,1].\n"
          ],
          "name": "stdout"
        }
      ]
    },
    {
      "cell_type": "markdown",
      "metadata": {
        "id": "ajYzysTx1mCv"
      },
      "source": [
        "Next, we are adding the *fill in* parts in the function computing the coordinate ascent "
      ]
    },
    {
      "cell_type": "code",
      "metadata": {
        "id": "-oZssU4012yv"
      },
      "source": [
        "def CoordinateDescentSVM(Xtrain, Ytrain, C, Xtest, Ytest):\n",
        "    ''' compute the solution of linear SVM\n",
        "    Xtrain, Ytrain: training set\n",
        "    Xtest, Ytest: test set (only to monitor test error)\n",
        "    C: error parameter\n",
        "\n",
        "    w: weights linear SVM\n",
        "    TrainError, TestError: training and test errors over iterations\n",
        "    '''\n",
        "    n = Xtrain.shape[0]\n",
        "    alpha = np.zeros([n, 1]) # initialize dual variables\n",
        "    w = Xtrain.T @ (Ytrain * alpha) # initialize primal variables\n",
        "    \n",
        "    # works since ai -> n*1, Ytrain -> n * 1 --> pointwise to n * 1\n",
        "    # X.T -> d * n\n",
        "\n",
        "    counter = 0\n",
        "    converged = False\n",
        "    eps = 1e-3\n",
        "    TrainError, TestError = [], []\n",
        "    \n",
        "    \n",
        "    while  not converged:\n",
        "            \n",
        "        # select coordinate to update\n",
        "        r = counter % n\n",
        "\n",
        "\n",
        "        # solve the subproblem for coordinate r without any constraints\n",
        "    \n",
        "        # data on r \n",
        "        Yr = Ytrain[r]  \n",
        "        Xr = Xtrain[r, :]\n",
        "        Xr_inner = np.matmul(Xr.T, Xr)\n",
        "        \n",
        "        # data on the rest \n",
        "        alpha_i = np.delete(alpha, r)\n",
        "        Y_i = np.delete(Ytrain, r)\n",
        "        X_i = np.delete(Xtrain, r, axis = 0)\n",
        "        \n",
        "        # calculation\n",
        "        \n",
        "        a1 = (alpha_i * Y_i)\n",
        "        a2 = np.matmul(a1, X_i)\n",
        "        a3 = np.matmul(a2, Xr)\n",
        "        \n",
        "        ar_1 = 1 / Xr_inner - a3 * Yr / Xr_inner\n",
        "        \n",
        "\n",
        "        # project the solution to the interval [0, C / n]\n",
        "\n",
        "        ar = max(0,min(ar_1, C/n))\n",
        "        \n",
        "        # into alpha again\n",
        "        alpha[r] = ar\n",
        "\n",
        "\n",
        "        # monitor the progress of the method computing the dual\n",
        "        # objective DualObj\n",
        "        \n",
        "        b1 = np.sum(alpha) \n",
        "        b2 = (Ytrain *  alpha).T\n",
        "        b3 = np.matmul(Xtrain, Xtrain.T)\n",
        "        b4 = (Ytrain *  alpha)\n",
        "        b5 = np.matmul(b2, b3)\n",
        "        b6 = np.matmul(b5, b4)\n",
        "        \n",
        "        DualObj = b1 - 0.5 * b6\n",
        "        \n",
        "\n",
        "        if (counter + 1) % 100 == 0:\n",
        "            print('iteration={} dual obj={:.3f}'.format(\n",
        "                counter + 1, float(DualObj) ) ) \n",
        "\n",
        "        # compute the training and test error with the current iterate alpha\n",
        "        \n",
        "        # using hinge loss \n",
        "        \n",
        "        w = Xtrain.T @ ( Ytrain * alpha )\n",
        "        \n",
        "        a_train = np.ones([n,1]) -   Ytrain * np.matmul(Xtrain, w)  \n",
        "        a_train2 = np.maximum(a_train, np.zeros([n,1]))\n",
        "        TrainError_1 = C / n * np.sum(a_train2)\n",
        "        TrainError.append(TrainError_1)\n",
        "        \n",
        "        n2 = Xtest.shape[0]\n",
        "        \n",
        "        a_test = np.ones([n2,1]) -   Ytest * np.matmul(Xtest, w)  \n",
        "        a_test2 = np.maximum(a_test, np.zeros([n2,1]))\n",
        "        TestError_1 = C / n * np.sum(a_test2)\n",
        "        TestError.append(TestError_1)\n",
        "        \n",
        "\n",
        "        # if the KKT conditions are satisfied up to the tolerance eps by the\n",
        "        # the current iterate alpha then set converged = True\n",
        "        \n",
        "        # checking complementary slackness:\n",
        "        \n",
        "        c1 = np.ones([n,1])\n",
        "#       c2 = np.ones([n,1]) * eps\n",
        "        c3 = np.matmul(Xtrain, w)\n",
        "        c4 = Ytrain * c3\n",
        "        c5 = c1 - c4\n",
        "        \n",
        "        c6 = alpha * c5\n",
        "        \n",
        "        \n",
        "        # if alpha * (1- Y * X * w) is smaller than the threshold of epsilon,\n",
        "        # set the counter to converged\n",
        "    \n",
        "        eps_2 = np.ones([n,1]) * eps\n",
        "        check = abs(c6) > eps_2\n",
        "        \n",
        "        if sum(check) == 0:\n",
        "            converged = True\n",
        "        \n",
        "        \n",
        "        # counter += 1 \n",
        "        counter += 1\n",
        "\n",
        "\n",
        "        \n",
        "    # compute the primal solution w from alpha\n",
        "    \n",
        "    # using hinge loss \n",
        "    # muss nichts mehr gemacht werden :D\n",
        "    \n",
        "#    w = Xtrain.T @ (Ytrain * alpha)\n",
        "    \n",
        "#    a_train = np.ones([n,1]) -   Ytrain * np.matmul(Xtrain, w)  \n",
        "#    a_train2 = np.maximum(a_train, np.zeros([n,1]))\n",
        "#    TrainError = np.sum(a_train2)\n",
        "    \n",
        "#    n2 = Xtest.shape[0]\n",
        "    \n",
        "#    a_test = np.ones([n2,1]) -   Ytest * np.matmul(Xtest, w)  \n",
        "#    a_test2 = np.maximum(a_test, np.zeros([n2,1]))\n",
        "#    TestError = np.sum(a_test2)\n",
        "    \n",
        "\n",
        "    # show final dual objective\n",
        "    print('final iteration={} dual obj={:.3f}'.format(counter, DualObj))\n",
        "\n",
        "    return w, TrainError, TestError\n"
      ],
      "execution_count": 7,
      "outputs": []
    },
    {
      "cell_type": "markdown",
      "metadata": {
        "id": "JkVgBV_q15Sv"
      },
      "source": [
        "Now, we call that function for different C values, i.e. 10,100,200, 500. Note the comments below the next code chunk."
      ]
    },
    {
      "cell_type": "code",
      "metadata": {
        "colab": {
          "base_uri": "https://localhost:8080/",
          "height": 381
        },
        "id": "YIEtsCFo2ZeR",
        "outputId": "0f6eda62-2365-4baf-e673-a79ceed327d5"
      },
      "source": [
        "w, TrainError, TestError = CoordinateDescentSVM(Xtrain, Ytrain, 10, Xtest, Ytest)\n",
        "TrainError_10 = TrainError\n",
        "TestError_10 = TestError\n",
        "\n",
        "\n",
        "w, TrainError, TestError = CoordinateDescentSVM(Xtrain, Ytrain, 100, Xtest, Ytest)\n",
        "TrainError_100 = TrainError\n",
        "TestError_100 = TestError\n",
        "\n",
        "\n",
        "w, TrainError, TestError = CoordinateDescentSVM(Xtrain, Ytrain, 200, Xtest, Ytest)\n",
        "TrainError_200 = TrainError\n",
        "TestError_200 = TestError\n",
        "\n",
        "\n",
        "w, TrainError, TestError  = CoordinateDescentSVM(Xtrain, Ytrain, 500, Xtest, Ytest)\n",
        "TrainError_500 = TrainError\n",
        "TestError_500 = TestError\n"
      ],
      "execution_count": 8,
      "outputs": [
        {
          "output_type": "stream",
          "text": [
            "iteration=2500 dual obj=9.768\n"
          ],
          "name": "stdout"
        },
        {
          "output_type": "error",
          "ename": "KeyboardInterrupt",
          "evalue": "ignored",
          "traceback": [
            "\u001b[0;31m---------------------------------------------------------------------------\u001b[0m",
            "\u001b[0;31mKeyboardInterrupt\u001b[0m                         Traceback (most recent call last)",
            "\u001b[0;32m<ipython-input-8-328c14330222>\u001b[0m in \u001b[0;36m<module>\u001b[0;34m()\u001b[0m\n\u001b[0;32m----> 1\u001b[0;31m \u001b[0mw\u001b[0m\u001b[0;34m,\u001b[0m \u001b[0mTrainError\u001b[0m\u001b[0;34m,\u001b[0m \u001b[0mTestError\u001b[0m \u001b[0;34m=\u001b[0m \u001b[0mCoordinateDescentSVM\u001b[0m\u001b[0;34m(\u001b[0m\u001b[0mXtrain\u001b[0m\u001b[0;34m,\u001b[0m \u001b[0mYtrain\u001b[0m\u001b[0;34m,\u001b[0m \u001b[0;36m10\u001b[0m\u001b[0;34m,\u001b[0m \u001b[0mXtest\u001b[0m\u001b[0;34m,\u001b[0m \u001b[0mYtest\u001b[0m\u001b[0;34m)\u001b[0m\u001b[0;34m\u001b[0m\u001b[0;34m\u001b[0m\u001b[0m\n\u001b[0m\u001b[1;32m      2\u001b[0m \u001b[0mTrainError_10\u001b[0m \u001b[0;34m=\u001b[0m \u001b[0mTrainError\u001b[0m\u001b[0;34m\u001b[0m\u001b[0;34m\u001b[0m\u001b[0m\n\u001b[1;32m      3\u001b[0m \u001b[0mTestError_10\u001b[0m \u001b[0;34m=\u001b[0m \u001b[0mTestError\u001b[0m\u001b[0;34m\u001b[0m\u001b[0;34m\u001b[0m\u001b[0m\n\u001b[1;32m      4\u001b[0m \u001b[0;34m\u001b[0m\u001b[0m\n\u001b[1;32m      5\u001b[0m \u001b[0;34m\u001b[0m\u001b[0m\n",
            "\u001b[0;32m<ipython-input-7-55334d70c0d8>\u001b[0m in \u001b[0;36mCoordinateDescentSVM\u001b[0;34m(Xtrain, Ytrain, C, Xtest, Ytest)\u001b[0m\n\u001b[1;32m     63\u001b[0m         \u001b[0mb3\u001b[0m \u001b[0;34m=\u001b[0m \u001b[0mnp\u001b[0m\u001b[0;34m.\u001b[0m\u001b[0mmatmul\u001b[0m\u001b[0;34m(\u001b[0m\u001b[0mXtrain\u001b[0m\u001b[0;34m,\u001b[0m \u001b[0mXtrain\u001b[0m\u001b[0;34m.\u001b[0m\u001b[0mT\u001b[0m\u001b[0;34m)\u001b[0m\u001b[0;34m\u001b[0m\u001b[0;34m\u001b[0m\u001b[0m\n\u001b[1;32m     64\u001b[0m         \u001b[0mb4\u001b[0m \u001b[0;34m=\u001b[0m \u001b[0;34m(\u001b[0m\u001b[0mYtrain\u001b[0m \u001b[0;34m*\u001b[0m  \u001b[0malpha\u001b[0m\u001b[0;34m)\u001b[0m\u001b[0;34m\u001b[0m\u001b[0;34m\u001b[0m\u001b[0m\n\u001b[0;32m---> 65\u001b[0;31m         \u001b[0mb5\u001b[0m \u001b[0;34m=\u001b[0m \u001b[0mnp\u001b[0m\u001b[0;34m.\u001b[0m\u001b[0mmatmul\u001b[0m\u001b[0;34m(\u001b[0m\u001b[0mb2\u001b[0m\u001b[0;34m,\u001b[0m \u001b[0mb3\u001b[0m\u001b[0;34m)\u001b[0m\u001b[0;34m\u001b[0m\u001b[0;34m\u001b[0m\u001b[0m\n\u001b[0m\u001b[1;32m     66\u001b[0m         \u001b[0mb6\u001b[0m \u001b[0;34m=\u001b[0m \u001b[0mnp\u001b[0m\u001b[0;34m.\u001b[0m\u001b[0mmatmul\u001b[0m\u001b[0;34m(\u001b[0m\u001b[0mb5\u001b[0m\u001b[0;34m,\u001b[0m \u001b[0mb4\u001b[0m\u001b[0;34m)\u001b[0m\u001b[0;34m\u001b[0m\u001b[0;34m\u001b[0m\u001b[0m\n\u001b[1;32m     67\u001b[0m \u001b[0;34m\u001b[0m\u001b[0m\n",
            "\u001b[0;31mKeyboardInterrupt\u001b[0m: "
          ]
        }
      ]
    },
    {
      "cell_type": "markdown",
      "metadata": {
        "id": "etqkRl3w2e0B"
      },
      "source": [
        "As can be seen  when executing the cell above, the dual objective function coverges, yet the stopping criteroin does not seem do ever be met. This is why we recoded the coordinate ascent function so that is stops after a set number of iterations."
      ]
    },
    {
      "cell_type": "code",
      "metadata": {
        "id": "sn7ZXKKZ6W7M"
      },
      "source": [
        "\n",
        "def CoordinateDescentSVM_2(Xtrain, Ytrain, C, Xtest, Ytest):\n",
        "    ''' compute the solution of linear SVM\n",
        "    Xtrain, Ytrain: training set\n",
        "    Xtest, Ytest: test set (only to monitor test error)\n",
        "    C: error parameter\n",
        "\n",
        "    w: weights linear SVM\n",
        "    TrainError, TestError: training and test errors over iterations\n",
        "    '''\n",
        "    n = Xtrain.shape[0]\n",
        "    alpha = np.zeros([n, 1]) # initialize dual variables\n",
        "    w = Xtrain.T @ (Ytrain * alpha) # initialize primal variables\n",
        "    \n",
        "    # works since ai -> n*1, Ytrain -> n * 1 --> pointwise to n * 1\n",
        "    # X.T -> d * n\n",
        "\n",
        "    counter = 0\n",
        "    converged = False\n",
        "    eps = 1e-3\n",
        "    TrainError, TestError = [], []\n",
        "    \n",
        "    \n",
        "    while  counter < 3000:\n",
        "            \n",
        "        # select coordinate to update\n",
        "        r = counter % n\n",
        "\n",
        "# r = 3\n",
        "# C = 100\n",
        "\n",
        "\n",
        "        # solve the subproblem for coordinate r without any constraints\n",
        "    \n",
        "        # data on r \n",
        "        Yr = Ytrain[r]  \n",
        "        Xr = Xtrain[r, :]\n",
        "        Xr_inner = np.matmul(Xr.T, Xr)\n",
        "        \n",
        "        # data on the rest \n",
        "        alpha_i = np.delete(alpha, r)\n",
        "        Y_i = np.delete(Ytrain, r)\n",
        "        X_i = np.delete(Xtrain, r, axis = 0)\n",
        "        \n",
        "        # calculation\n",
        "        \n",
        "        a1 = (alpha_i * Y_i)\n",
        "        a2 = np.matmul(a1, X_i)\n",
        "        a3 = np.matmul(a2, Xr)\n",
        "        \n",
        "        ar_1 = 1 / Xr_inner - a3 * Yr / Xr_inner\n",
        "        \n",
        "\n",
        "        # project the solution to the interval [0, C / n]\n",
        "\n",
        "        ar = max(0,min(ar_1, C/n))\n",
        "        \n",
        "        # into alpha again\n",
        "        alpha[r] = ar\n",
        "\n",
        "\n",
        "        # monitor the progress of the method computing the dual\n",
        "        # objective DualObj\n",
        "        \n",
        "        b1 = np.sum(alpha) \n",
        "        b2 = (Ytrain *  alpha).T\n",
        "        b3 = np.matmul(Xtrain, Xtrain.T)\n",
        "        b4 = (Ytrain *  alpha)\n",
        "        b5 = np.matmul(b2, b3)\n",
        "        b6 = np.matmul(b5, b4)\n",
        "        \n",
        "        DualObj = b1 - 0.5 * b6\n",
        "        \n",
        "\n",
        "        if (counter + 1) % 100 == 0:\n",
        "            print('iteration={} dual obj={:.3f}'.format(\n",
        "                counter + 1, float(DualObj) ) ) \n",
        "\n",
        "        # compute the training and test error with the current iterate alpha\n",
        "        \n",
        "        # using hinge loss \n",
        "        \n",
        "        w = Xtrain.T @ ( Ytrain * alpha )\n",
        "        \n",
        "        a_train = np.ones([n,1]) -   Ytrain * np.matmul(Xtrain, w)  \n",
        "        a_train2 = np.maximum(a_train, np.zeros([n,1]))\n",
        "        TrainError_1 = C / n * np.sum(a_train2)\n",
        "        TrainError.append(TrainError_1)\n",
        "        \n",
        "        n2 = Xtest.shape[0]\n",
        "        \n",
        "        a_test = np.ones([n2,1]) -   Ytest * np.matmul(Xtest, w)  \n",
        "        a_test2 = np.maximum(a_test, np.zeros([n2,1]))\n",
        "        TestError_1 = C / n2 * np.sum(a_test2)\n",
        "        TestError.append(TestError_1)\n",
        "        \n",
        "\n",
        "        # if the KKT conditions are satisfied up to the tolerance eps by the\n",
        "        # the current iterate alpha then set converged = True\n",
        "        \n",
        "        # checking complementary slackness:\n",
        "        \n",
        "        c1 = np.ones([n,1])\n",
        "#       c2 = np.ones([n,1]) * eps\n",
        "        c3 = np.matmul(Xtrain, w)\n",
        "        c4 = Ytrain * c3\n",
        "        c5 = c1 - c4\n",
        "        \n",
        "        c6 = alpha * c5\n",
        "        \n",
        "        \n",
        "        # if alpha * (1- Y * X * w) is smaller than the threshold of epsilon,\n",
        "        # set the counter to converged\n",
        "    \n",
        "        eps_2 = np.ones([n,1]) * eps\n",
        "        check = abs(c6) > eps_2\n",
        "        \n",
        "        #if sum(check) == 0:\n",
        "        #    converged = True\n",
        "        \n",
        "        \n",
        "        TrainError_final, TestError_final = TrainError, TestError\n",
        "        \n",
        "        \n",
        "        # counter += 1 \n",
        "        counter += 1\n",
        "\n",
        "\n",
        "        \n",
        "    # compute the primal solution w from alpha\n",
        "    \n",
        "    # using hinge loss \n",
        "    # muss nichts mehr gemacht werden :D\n",
        "    \n",
        "#    w = Xtrain.T @ (Ytrain * alpha)\n",
        "    \n",
        "#    a_train = np.ones([n,1]) -   Ytrain * np.matmul(Xtrain, w)  \n",
        "#    a_train2 = np.maximum(a_train, np.zeros([n,1]))\n",
        "#    TrainError = np.sum(a_train2)\n",
        "    \n",
        "#    n2 = Xtest.shape[0]\n",
        "    \n",
        "#    a_test = np.ones([n2,1]) -   Ytest * np.matmul(Xtest, w)  \n",
        "#    a_test2 = np.maximum(a_test, np.zeros([n2,1]))\n",
        "#    TestError = np.sum(a_test2)\n",
        "    \n",
        "\n",
        "    # show final dual objective\n",
        "    #print('final iteration={} dual obj={:.3f}'.format(counter, DualObj))\n",
        "\n",
        "    return w, TrainError_final, TestError_final\n",
        "\n"
      ],
      "execution_count": 9,
      "outputs": []
    },
    {
      "cell_type": "markdown",
      "metadata": {
        "id": "69z3rpZ66kU_"
      },
      "source": [
        "Once again, we are calling the fuction  on different values of C and plotting the resulting Training and Testing Error Curves. We shall start with C = 10."
      ]
    },
    {
      "cell_type": "code",
      "metadata": {
        "colab": {
          "base_uri": "https://localhost:8080/",
          "height": 798
        },
        "id": "_gZtC3o86wNF",
        "outputId": "141a3494-815c-4548-d32a-af678625ca05"
      },
      "source": [
        "w, TrainError_final, TestError_final = CoordinateDescentSVM_2(Xtrain, Ytrain, 10, Xtest, Ytest)\n",
        "TrainError_10 = np.log(TrainError_final)\n",
        "TestError_10 = np.log(TestError_final)\n",
        "\n",
        "plt.figure()\n",
        "plt.plot(TestError_10)\n",
        "plt.plot(TrainError_10)\n",
        "plt.legend([\"Test Error, C = 10\", \"Training Error, C = 10\"])\n",
        "plt.show()\n"
      ],
      "execution_count": 10,
      "outputs": [
        {
          "output_type": "stream",
          "text": [
            "iteration=100 dual obj=0.499\n",
            "iteration=200 dual obj=0.998\n",
            "iteration=300 dual obj=1.495\n",
            "iteration=400 dual obj=1.991\n",
            "iteration=500 dual obj=2.486\n",
            "iteration=600 dual obj=2.979\n",
            "iteration=700 dual obj=3.472\n",
            "iteration=800 dual obj=3.963\n",
            "iteration=900 dual obj=4.453\n",
            "iteration=1000 dual obj=4.942\n",
            "iteration=1100 dual obj=5.431\n",
            "iteration=1200 dual obj=5.917\n",
            "iteration=1300 dual obj=6.403\n",
            "iteration=1400 dual obj=6.887\n",
            "iteration=1500 dual obj=7.369\n",
            "iteration=1600 dual obj=7.853\n",
            "iteration=1700 dual obj=8.335\n",
            "iteration=1800 dual obj=8.814\n",
            "iteration=1900 dual obj=9.290\n",
            "iteration=2000 dual obj=9.768\n",
            "iteration=2100 dual obj=9.768\n",
            "iteration=2200 dual obj=9.768\n",
            "iteration=2300 dual obj=9.768\n",
            "iteration=2400 dual obj=9.768\n",
            "iteration=2500 dual obj=9.768\n",
            "iteration=2600 dual obj=9.768\n",
            "iteration=2700 dual obj=9.768\n",
            "iteration=2800 dual obj=9.768\n",
            "iteration=2900 dual obj=9.768\n",
            "iteration=3000 dual obj=9.768\n"
          ],
          "name": "stdout"
        },
        {
          "output_type": "display_data",
          "data": {
            "image/png": "[encoded data removed]",
            "text/plain": [
              "<Figure size 432x288 with 1 Axes>"
            ]
          },
          "metadata": {
            "tags": [],
            "needs_background": "light"
          }
        }
      ]
    },
    {
      "cell_type": "markdown",
      "metadata": {
        "id": "LhxUzvQm7NOq"
      },
      "source": [
        "We can see that both losses decrease linearly and after 2000  iterations do not decrease any further. It is noteworthy that 2000 is the size of our training set. This would indicate that after each alpha has been updated once, the optimal solution has been found.\n",
        "\n",
        "Next for C = 100"
      ]
    },
    {
      "cell_type": "code",
      "metadata": {
        "colab": {
          "base_uri": "https://localhost:8080/",
          "height": 798
        },
        "id": "eBVqzm438MLh",
        "outputId": "6a711561-862e-42c4-887b-ae8f13f6019a"
      },
      "source": [
        "\n",
        "w, TrainError_final, TestError_final = CoordinateDescentSVM_2(Xtrain, Ytrain, 100, Xtest, Ytest)\n",
        "TrainError_100 = np.log(TrainError_final)\n",
        "TestError_100 = np.log(TestError_final)\n",
        "\n",
        "plt.figure()\n",
        "plt.plot(TestError_100)\n",
        "plt.plot(TrainError_100)\n",
        "plt.legend([\"Test Error, C = 100\", \"Training Error, C = 100\"])\n",
        "plt.show()"
      ],
      "execution_count": 11,
      "outputs": [
        {
          "output_type": "stream",
          "text": [
            "iteration=100 dual obj=4.940\n",
            "iteration=200 dual obj=9.772\n",
            "iteration=300 dual obj=14.481\n",
            "iteration=400 dual obj=19.056\n",
            "iteration=500 dual obj=23.553\n",
            "iteration=600 dual obj=27.913\n",
            "iteration=700 dual obj=32.172\n",
            "iteration=800 dual obj=36.299\n",
            "iteration=900 dual obj=40.305\n",
            "iteration=1000 dual obj=44.211\n",
            "iteration=1100 dual obj=48.114\n",
            "iteration=1200 dual obj=51.705\n",
            "iteration=1300 dual obj=55.250\n",
            "iteration=1400 dual obj=58.694\n",
            "iteration=1500 dual obj=61.911\n",
            "iteration=1600 dual obj=65.257\n",
            "iteration=1700 dual obj=68.475\n",
            "iteration=1800 dual obj=71.366\n",
            "iteration=1900 dual obj=73.996\n",
            "iteration=2000 dual obj=76.803\n",
            "iteration=2100 dual obj=76.803\n",
            "iteration=2200 dual obj=76.803\n",
            "iteration=2300 dual obj=76.803\n",
            "iteration=2400 dual obj=76.803\n",
            "iteration=2500 dual obj=76.803\n",
            "iteration=2600 dual obj=76.803\n",
            "iteration=2700 dual obj=76.803\n",
            "iteration=2800 dual obj=76.803\n",
            "iteration=2900 dual obj=76.803\n",
            "iteration=3000 dual obj=76.803\n"
          ],
          "name": "stdout"
        },
        {
          "output_type": "display_data",
          "data": {
            "image/png": "[encoded data removed]",
            "text/plain": [
              "<Figure size 432x288 with 1 Axes>"
            ]
          },
          "metadata": {
            "tags": [],
            "needs_background": "light"
          }
        }
      ]
    },
    {
      "cell_type": "markdown",
      "metadata": {
        "id": "zO1AZA6l8Ui-"
      },
      "source": [
        "Once again, we notice that the errors stop decreasing at 2000 iterations. \n",
        "\n",
        "For C = 200:"
      ]
    },
    {
      "cell_type": "code",
      "metadata": {
        "colab": {
          "base_uri": "https://localhost:8080/",
          "height": 798
        },
        "id": "9IoxdWMz8bhM",
        "outputId": "08df7ef5-d4a5-4d99-ad42-2c12d4750c0d"
      },
      "source": [
        "w, TrainError_final, TestError_final = CoordinateDescentSVM_2(Xtrain, Ytrain, 200, Xtest, Ytest)\n",
        "\n",
        "TrainError_200 = np.log(TrainError_final)\n",
        "TestError_200 = np.log(TestError_final)\n",
        "\n",
        "plt.figure()\n",
        "plt.plot(TestError_200)\n",
        "plt.plot(TrainError_200)\n",
        "plt.legend([\"Test Error, C = 200\", \"Training Error, C = 200\"])\n",
        "plt.show()\n"
      ],
      "execution_count": 12,
      "outputs": [
        {
          "output_type": "stream",
          "text": [
            "iteration=100 dual obj=9.761\n",
            "iteration=200 dual obj=19.087\n",
            "iteration=300 dual obj=27.926\n",
            "iteration=400 dual obj=36.225\n",
            "iteration=500 dual obj=44.214\n",
            "iteration=600 dual obj=51.653\n",
            "iteration=700 dual obj=58.688\n",
            "iteration=800 dual obj=65.196\n",
            "iteration=900 dual obj=71.221\n",
            "iteration=1000 dual obj=76.845\n",
            "iteration=1100 dual obj=82.456\n",
            "iteration=1200 dual obj=86.821\n",
            "iteration=1300 dual obj=91.001\n",
            "iteration=1400 dual obj=94.777\n",
            "iteration=1500 dual obj=97.685\n",
            "iteration=1600 dual obj=101.242\n",
            "iteration=1700 dual obj=104.334\n",
            "iteration=1800 dual obj=106.578\n",
            "iteration=1900 dual obj=108.286\n",
            "iteration=2000 dual obj=110.662\n",
            "iteration=2100 dual obj=110.809\n",
            "iteration=2200 dual obj=110.901\n",
            "iteration=2300 dual obj=110.984\n",
            "iteration=2400 dual obj=111.001\n",
            "iteration=2500 dual obj=111.125\n",
            "iteration=2600 dual obj=111.163\n",
            "iteration=2700 dual obj=111.199\n",
            "iteration=2800 dual obj=111.268\n",
            "iteration=2900 dual obj=111.307\n",
            "iteration=3000 dual obj=111.333\n"
          ],
          "name": "stdout"
        },
        {
          "output_type": "display_data",
          "data": {
            "image/png": "[encoded data removed]",
            "text/plain": [
              "<Figure size 432x288 with 1 Axes>"
            ]
          },
          "metadata": {
            "tags": [],
            "needs_background": "light"
          }
        }
      ]
    },
    {
      "cell_type": "markdown",
      "metadata": {
        "id": "jquagYoq9ilR"
      },
      "source": [
        "Again, the losses decrease during the first 2000 iterations. However, the seem to be increasing afterwards. \n",
        "\n",
        "For C = 500 "
      ]
    },
    {
      "cell_type": "code",
      "metadata": {
        "colab": {
          "base_uri": "https://localhost:8080/",
          "height": 798
        },
        "id": "uQ9xTsLL9wFd",
        "outputId": "0a0df036-fe6b-41ac-f8ab-ea30c01196b8"
      },
      "source": [
        "\n",
        "w, TrainError_final, TestError_final = CoordinateDescentSVM_2(Xtrain, Ytrain, 500, Xtest, Ytest)\n",
        "\n",
        "TrainError_500 = np.log(TrainError_final)\n",
        "TestError_500 = np.log(TestError_final)\n",
        "\n",
        "plt.figure()\n",
        "plt.plot(TestError_500)\n",
        "plt.plot(TrainError_500)\n",
        "plt.legend([\"Test Error, C = 500\", \"Training Error, C = 500\"])\n",
        "plt.show()\n"
      ],
      "execution_count": 13,
      "outputs": [
        {
          "output_type": "stream",
          "text": [
            "iteration=100 dual obj=23.506\n",
            "iteration=200 dual obj=44.293\n",
            "iteration=300 dual obj=62.037\n",
            "iteration=400 dual obj=76.406\n",
            "iteration=500 dual obj=88.836\n",
            "iteration=600 dual obj=97.856\n",
            "iteration=700 dual obj=105.191\n",
            "iteration=800 dual obj=110.541\n",
            "iteration=900 dual obj=115.226\n",
            "iteration=1000 dual obj=119.085\n",
            "iteration=1100 dual obj=123.084\n",
            "iteration=1200 dual obj=125.445\n",
            "iteration=1300 dual obj=128.110\n",
            "iteration=1400 dual obj=131.010\n",
            "iteration=1500 dual obj=132.700\n",
            "iteration=1600 dual obj=135.691\n",
            "iteration=1700 dual obj=137.248\n",
            "iteration=1800 dual obj=138.803\n",
            "iteration=1900 dual obj=140.031\n",
            "iteration=2000 dual obj=141.889\n",
            "iteration=2100 dual obj=146.384\n",
            "iteration=2200 dual obj=149.759\n",
            "iteration=2300 dual obj=152.104\n",
            "iteration=2400 dual obj=153.859\n",
            "iteration=2500 dual obj=155.195\n",
            "iteration=2600 dual obj=155.718\n",
            "iteration=2700 dual obj=156.104\n",
            "iteration=2800 dual obj=156.235\n",
            "iteration=2900 dual obj=156.250\n",
            "iteration=3000 dual obj=156.258\n"
          ],
          "name": "stdout"
        },
        {
          "output_type": "display_data",
          "data": {
            "image/png": "[encoded data removed]",
            "text/plain": [
              "<Figure size 432x288 with 1 Axes>"
            ]
          },
          "metadata": {
            "tags": [],
            "needs_background": "light"
          }
        }
      ]
    },
    {
      "cell_type": "markdown",
      "metadata": {
        "id": "7CMrvIPpytKN"
      },
      "source": [
        ""
      ]
    },
    {
      "cell_type": "markdown",
      "metadata": {
        "id": "1BSX_beLyt_j"
      },
      "source": [
        ""
      ]
    }
  ]
}